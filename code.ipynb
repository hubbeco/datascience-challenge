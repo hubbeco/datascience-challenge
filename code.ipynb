{
  "nbformat": 4,
  "nbformat_minor": 0,
  "metadata": {
    "colab": {
      "name": "code.ipynb",
      "version": "0.3.2",
      "provenance": [],
      "include_colab_link": true
    },
    "kernelspec": {
      "name": "python3",
      "display_name": "Python 3"
    }
  },
  "cells": [
    {
      "cell_type": "markdown",
      "metadata": {
        "id": "view-in-github",
        "colab_type": "text"
      },
      "source": [
        "<a href=\"https://colab.research.google.com/github/hubbeco/datascience-challenge/blob/master/code.ipynb\" target=\"_parent\"><img src=\"https://colab.research.google.com/assets/colab-badge.svg\" alt=\"Open In Colab\"/></a>"
      ]
    },
    {
      "cell_type": "markdown",
      "metadata": {
        "id": "gDXNcu-rZh-G",
        "colab_type": "text"
      },
      "source": [
        "datascience-challenge\n",
        "=====================\n",
        "\n",
        "BitNews é o nome de um jornal fictício que é distribuído em diversas cidades de Santa Catarina. O jornal é conhecido por realizar esforços de pesquisa e tomar decisões orientadas por dados.  Em 2019 uma nova diretoria assumiu o controle do BitNews e desafiou todo o time de negócios e tecnologia a alcançar uma única grande meta: **Aumentar as vendas em 10x.**\n",
        "\n",
        "\n",
        "Se coloque dentro desse time e ajude a BitNews a alcançar seus objetivos. Agora você tem acesso a todo histórico de vendas da BitNews, seus produtos, clientes e também acesso aos mesmos dados de toda  a concorrência do BitNews.\n",
        "\n",
        "\n",
        " **Consulte demais regras de informações no README.md**\n",
        "\n"
      ]
    },
    {
      "cell_type": "code",
      "metadata": {
        "id": "jTrnnaT332Cb",
        "colab_type": "code",
        "colab": {}
      },
      "source": [
        "import pandas as pd\n",
        "import numpy as np\n"
      ],
      "execution_count": 0,
      "outputs": []
    },
    {
      "cell_type": "code",
      "metadata": {
        "id": "Zp_RdGU6bQEs",
        "colab_type": "code",
        "colab": {}
      },
      "source": [
        "file1 = 'copied_raw_GH_link'\n",
        "file2 = 'copied_raw_GH_link'\n",
        "\n",
        "df1 = pd.read_csv(file1)\n",
        "df2 = pd.read_csv(file2)"
      ],
      "execution_count": 0,
      "outputs": []
    },
    {
      "cell_type": "code",
      "metadata": {
        "id": "EDbtDr0eb553",
        "colab_type": "code",
        "colab": {}
      },
      "source": [
        "df1.info()"
      ],
      "execution_count": 0,
      "outputs": []
    },
    {
      "cell_type": "code",
      "metadata": {
        "id": "qfLeslTwb6KC",
        "colab_type": "code",
        "colab": {}
      },
      "source": [
        "df2.info()"
      ],
      "execution_count": 0,
      "outputs": []
    },
    {
      "cell_type": "code",
      "metadata": {
        "id": "7stPC4I7cXO1",
        "colab_type": "code",
        "colab": {}
      },
      "source": [
        ""
      ],
      "execution_count": 0,
      "outputs": []
    }
  ]
}